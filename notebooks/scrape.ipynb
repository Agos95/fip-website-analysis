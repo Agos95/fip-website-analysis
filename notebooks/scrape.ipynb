{
 "cells": [
  {
   "cell_type": "code",
   "execution_count": 86,
   "id": "af96e53a",
   "metadata": {},
   "outputs": [],
   "source": [
    "from bs4 import BeautifulSoup\n",
    "import httpx\n",
    "import re"
   ]
  },
  {
   "cell_type": "code",
   "execution_count": 2,
   "id": "a571178c",
   "metadata": {},
   "outputs": [],
   "source": [
    "# start page for Veneto\n",
    "START_PAGE = \"https://fip.it/risultati/?group=campionati-regionali&regione_codice=VE&comitato_codice=RVE\"\n",
    "\n",
    "response = httpx.get(START_PAGE)\n",
    "webpage = response.text"
   ]
  },
  {
   "cell_type": "code",
   "execution_count": 3,
   "id": "66b30617",
   "metadata": {},
   "outputs": [],
   "source": [
    "soup = BeautifulSoup(webpage, \"lxml\")"
   ]
  },
  {
   "cell_type": "code",
   "execution_count": 4,
   "id": "791a63cb",
   "metadata": {},
   "outputs": [],
   "source": [
    "comitato_codice = {}"
   ]
  },
  {
   "cell_type": "code",
   "execution_count": 5,
   "id": "6ede3692",
   "metadata": {},
   "outputs": [],
   "source": [
    "for opt in soup.find(id=\"province\").find(\"select\").find_all(\"option\"):\n",
    "    comitato_codice[opt.text.strip()] = opt.attrs[\"value\"]"
   ]
  },
  {
   "cell_type": "code",
   "execution_count": 6,
   "id": "d093a3f2",
   "metadata": {},
   "outputs": [
    {
     "data": {
      "text/plain": [
       "{'BELLUNO': 'PBL',\n",
       " 'PADOVA': 'PPD',\n",
       " 'TREVISO': 'PTV',\n",
       " 'VENEZIA': 'RVE',\n",
       " 'VERONA': 'PVR',\n",
       " 'VICENZA': 'PVI'}"
      ]
     },
     "execution_count": 6,
     "metadata": {},
     "output_type": "execute_result"
    }
   ],
   "source": [
    "comitato_codice"
   ]
  },
  {
   "cell_type": "code",
   "execution_count": 7,
   "id": "ded93a41",
   "metadata": {},
   "outputs": [],
   "source": [
    "# do this for each 'comitato_codice.values()'\n",
    "COMITATO_CODICE = \"RVE\"\n",
    "\n",
    "sesso = {}\n",
    "\n",
    "params={\n",
    "    \"group\": \"campionati-regionali\", \n",
    "    \"regione_codice\": \"VE\", \n",
    "    \"comitato_codice\": COMITATO_CODICE\n",
    "}\n",
    "response = httpx.get(\"https://fip.it/risultati/\", params=params)\n",
    "soup = BeautifulSoup(response.text, \"lxml\")\n",
    "\n",
    "for opt in soup.find(id=\"sesso-wrapper\").find(\"select\").find_all(\"option\"):\n",
    "    sesso[opt.text.strip()] = opt.attrs[\"value\"]"
   ]
  },
  {
   "cell_type": "code",
   "execution_count": 8,
   "id": "6dd09a4a",
   "metadata": {},
   "outputs": [
    {
     "data": {
      "text/plain": [
       "{'Campionati Maschili': 'M', 'Campionati Femminili': 'F'}"
      ]
     },
     "execution_count": 8,
     "metadata": {},
     "output_type": "execute_result"
    }
   ],
   "source": [
    "sesso"
   ]
  },
  {
   "cell_type": "code",
   "execution_count": 12,
   "id": "6d99d840",
   "metadata": {},
   "outputs": [],
   "source": [
    "# do this for each `sesso.values()`\n",
    "SESSO = \"M\"\n",
    "\n",
    "codice_campionato = {}\n",
    "\n",
    "params={\n",
    "    \"group\": \"campionati-regionali\", \n",
    "    \"regione_codice\": \"VE\", \n",
    "    \"comitato_codice\": COMITATO_CODICE,\n",
    "    \"sesso\": SESSO\n",
    "}\n",
    "response = httpx.get(\"https://fip.it/risultati/\", params=params)\n",
    "soup = BeautifulSoup(response.text, \"lxml\")\n",
    "\n",
    "for opt in soup.find(id=\"campionati\").find(\"select\").find_all(\"option\"):\n",
    "    codice_campionato[opt.text.strip()] = opt.attrs[\"value\"]"
   ]
  },
  {
   "cell_type": "code",
   "execution_count": 13,
   "id": "e7e1a7d8",
   "metadata": {},
   "outputs": [
    {
     "data": {
      "text/plain": [
       "{'Serie B Interregionale': 'B2',\n",
       " 'Serie C': 'C1',\n",
       " 'Divisione regionale 1': 'D',\n",
       " 'Under 19 Maschile Eccellenza': 'U19/E',\n",
       " 'Under 19 Maschile Gold': 'U19G/M',\n",
       " 'Under 19 Maschile Regionale': 'U19S/M',\n",
       " 'Under 17 Maschile Eccellenza': 'U17/E',\n",
       " 'Under 17 Maschile Gold': 'U17G/M',\n",
       " 'Under 17 Maschile Regionale': 'U17S/M',\n",
       " 'Under 15 Maschile Eccellenza': 'U15/E',\n",
       " 'Under 15 Maschile Gold': 'U15G/M',\n",
       " 'Under 15 Maschile Regionale': 'U15S/M',\n",
       " 'Under 14 Maschile Gold': 'U14G/M',\n",
       " 'Under 14 Maschile Regionale': 'U14S/M',\n",
       " 'Under 13 Maschile Gold': 'U13G/M',\n",
       " 'Under 13 Maschile Regionale': 'U13S/M',\n",
       " 'Trofeo Esordienti': 'ES',\n",
       " 'Aquilotti': 'TAQ',\n",
       " 'Scoiattoli': 'TSC'}"
      ]
     },
     "execution_count": 13,
     "metadata": {},
     "output_type": "execute_result"
    }
   ],
   "source": [
    "codice_campionato"
   ]
  },
  {
   "cell_type": "code",
   "execution_count": 14,
   "id": "18360c6d",
   "metadata": {},
   "outputs": [],
   "source": [
    "# do this for each `codice_campionato.values()`\n",
    "CODICE_CAMPIONATO = \"B2\"\n",
    "\n",
    "codice_fase = {}\n",
    "\n",
    "params={\n",
    "    \"group\": \"campionati-regionali\", \n",
    "    \"regione_codice\": \"VE\", \n",
    "    \"comitato_codice\": COMITATO_CODICE,\n",
    "    \"sesso\": SESSO,\n",
    "    \"codice_campionato\": CODICE_CAMPIONATO\n",
    "}\n",
    "response = httpx.get(\"https://fip.it/risultati/\", params=params)\n",
    "soup = BeautifulSoup(response.text, \"lxml\")\n",
    "\n",
    "for opt in soup.find(id=\"fasi\").find(\"select\").find_all(\"option\"):\n",
    "    codice_fase[opt.text.strip()] = opt.attrs[\"value\"]"
   ]
  },
  {
   "cell_type": "code",
   "execution_count": 15,
   "id": "7afc9032",
   "metadata": {},
   "outputs": [
    {
     "data": {
      "text/plain": [
       "{'Qualificazione': '1',\n",
       " 'Seconda Fase': '2',\n",
       " 'PlayOff Quarti': '3',\n",
       " 'PlayOff Semifinali': '4',\n",
       " 'PlayOff Finale': '5'}"
      ]
     },
     "execution_count": 15,
     "metadata": {},
     "output_type": "execute_result"
    }
   ],
   "source": [
    "codice_fase"
   ]
  },
  {
   "cell_type": "code",
   "execution_count": 16,
   "id": "bdf8e303",
   "metadata": {},
   "outputs": [],
   "source": [
    "# do this for each `codice_fase.values()`\n",
    "CODICE_FASE = \"3\"\n",
    "\n",
    "codice_girone = {}\n",
    "\n",
    "params={\n",
    "    \"group\": \"campionati-regionali\", \n",
    "    \"regione_codice\": \"VE\", \n",
    "    \"comitato_codice\": COMITATO_CODICE,\n",
    "    \"sesso\": SESSO,\n",
    "    \"codice_campionato\": CODICE_CAMPIONATO,\n",
    "    \"codice_fase\": CODICE_FASE\n",
    "}\n",
    "response = httpx.get(\"https://fip.it/risultati/\", params=params)\n",
    "soup = BeautifulSoup(response.text, \"lxml\")\n",
    "\n",
    "for opt in soup.find(id=\"gironi\").find(\"select\").find_all(\"option\"):\n",
    "    codice_girone[opt.text.strip()] = opt.attrs[\"value\"]"
   ]
  },
  {
   "cell_type": "code",
   "execution_count": 17,
   "id": "b4231997",
   "metadata": {},
   "outputs": [
    {
     "data": {
      "text/plain": [
       "{'Quarti G1': '71774',\n",
       " 'Quarti G2': '71775',\n",
       " 'Quarti G3': '71776',\n",
       " 'Quarti G4': '71777'}"
      ]
     },
     "execution_count": 17,
     "metadata": {},
     "output_type": "execute_result"
    }
   ],
   "source": [
    "codice_girone"
   ]
  },
  {
   "cell_type": "code",
   "execution_count": 51,
   "id": "5427c7b0",
   "metadata": {},
   "outputs": [],
   "source": [
    "# do this for each `codice_girone.values()`\n",
    "CODICE_GIRONE = \"71774\"\n",
    "\n",
    "links = []\n",
    "\n",
    "params={\n",
    "    \"group\": \"campionati-regionali\", \n",
    "    \"regione_codice\": \"VE\", \n",
    "    \"comitato_codice\": COMITATO_CODICE,\n",
    "    \"sesso\": SESSO,\n",
    "    \"codice_campionato\": CODICE_CAMPIONATO,\n",
    "    \"codice_fase\": CODICE_FASE,\n",
    "    \"codice_girone\": CODICE_GIRONE\n",
    "}\n",
    "response = httpx.get(\"https://fip.it/risultati/\", params=params)\n",
    "soup = BeautifulSoup(response.text, \"lxml\")\n",
    "\n",
    "for day in soup.find(\"div\", attrs={\"class\": \"results-calendar\"}).find_all(\"div\", attrs={\"class\": \"results-calendar__days__group\"}):\n",
    "    for a in day.find(\"div\", attrs={\"class\": \"values\"}).find_all(\"a\"):\n",
    "        links.append(a.get(\"href\"))"
   ]
  },
  {
   "cell_type": "code",
   "execution_count": 52,
   "id": "5af33b7a",
   "metadata": {},
   "outputs": [
    {
     "data": {
      "text/plain": [
       "['https://fip.it/risultati/?group=campionati-regionali&regione_codice=VE&comitato_codice=RVE&sesso=M&codice_campionato=B2&codice_fase=3&codice_girone=71774&codice_ar=1&giornata=1',\n",
       " 'https://fip.it/risultati/?group=campionati-regionali&regione_codice=VE&comitato_codice=RVE&sesso=M&codice_campionato=B2&codice_fase=3&codice_girone=71774&codice_ar=0&giornata=1']"
      ]
     },
     "execution_count": 52,
     "metadata": {},
     "output_type": "execute_result"
    }
   ],
   "source": [
    "links"
   ]
  },
  {
   "cell_type": "code",
   "execution_count": 71,
   "id": "53a439a4",
   "metadata": {},
   "outputs": [],
   "source": [
    "# do this for each link\n",
    "LINK = \"https://fip.it/risultati/?group=campionati-regionali&regione_codice=VE&comitato_codice=RVE&sesso=M&codice_campionato=B2&codice_fase=1&codice_girone=66198&codice_ar=0&giornata=6\"\n",
    "\n",
    "response = httpx.get(LINK)\n",
    "soup = BeautifulSoup(response.text, \"lxml\")"
   ]
  },
  {
   "cell_type": "code",
   "execution_count": 78,
   "id": "899c466e",
   "metadata": {},
   "outputs": [],
   "source": [
    "games = soup.find(\"div\", attrs={\"class\": \"results-tab\"}).find_all(\"div\", attrs={\"class\":\"results-matches__match\"})\n",
    "game = games[1]"
   ]
  },
  {
   "cell_type": "code",
   "execution_count": 70,
   "id": "88023f40",
   "metadata": {},
   "outputs": [
    {
     "data": {
      "text/plain": [
       "[{'name': 'SYNETO BASKET ISEO', 'points': '77'},\n",
       " {'name': 'BCC Pordenone', 'points': '84'}]"
      ]
     },
     "execution_count": 70,
     "metadata": {},
     "output_type": "execute_result"
    }
   ],
   "source": [
    "# teams\n",
    "teams = []\n",
    "for team in game.find_all(\"div\", attrs={\"class\": \"team\"}):\n",
    "    name = team.find(\"div\", attrs={\"class\": \"team__name\"}).text.strip()\n",
    "    points = team.find(\"div\", attrs={\"class\": \"team__points\"}).text.strip()\n",
    "    teams.append({\"name\": name, \"points\": points})\n",
    "\n",
    "teams"
   ]
  },
  {
   "cell_type": "code",
   "execution_count": 82,
   "id": "a61390cc",
   "metadata": {},
   "outputs": [
    {
     "data": {
      "text/plain": [
       "('04 Gennaio 2025', '20:30', '000101')"
      ]
     },
     "execution_count": 82,
     "metadata": {},
     "output_type": "execute_result"
    }
   ],
   "source": [
    "# match info\n",
    "info = game.find(\"div\", attrs={\"class\": \"results-matches__match__info\"})\n",
    "\n",
    "date = info.find(\"div\", attrs={\"class\": \"datetime\"}).find(\"div\", attrs={\"class\": \"date\"}).text.strip()\n",
    "time = info.find(\"div\", attrs={\"class\": \"datetime\"}).find(\"div\", attrs={\"class\": \"time\"}).text.strip()\n",
    "ref = info.find(\"div\", attrs={\"class\": \"ref\"}).text.strip()\n",
    "\n",
    "\n",
    "date, time, ref"
   ]
  },
  {
   "cell_type": "code",
   "execution_count": 83,
   "id": "741241b0",
   "metadata": {},
   "outputs": [],
   "source": [
    "# match more info\n",
    "more_info = game.find(\"div\", attrs={\"class\": \"results-matches__match__moreinfo\"})\n"
   ]
  },
  {
   "cell_type": "code",
   "execution_count": null,
   "id": "39992641",
   "metadata": {},
   "outputs": [
    {
     "data": {
      "text/plain": [
       "\"PALAFERROLI, VIA OFFIA-LOCALITA' OFFIA 37047 SAN BONIFACIO ( VR)\""
      ]
     },
     "execution_count": 100,
     "metadata": {},
     "output_type": "execute_result"
    }
   ],
   "source": [
    "court = re.sub(r\"\\s+\",\" \", more_info.find(\"div\", attrs={\"class\":\"label\"}, string=re.compile(r\"\\s*Campo di gioco\\s*\")).find_next_sibling().text.strip())"
   ]
  },
  {
   "cell_type": "code",
   "execution_count": null,
   "id": "431000c4",
   "metadata": {},
   "outputs": [],
   "source": [
    "# get other infor from 'more info' section"
   ]
  },
  {
   "cell_type": "code",
   "execution_count": 104,
   "id": "13488a2b",
   "metadata": {},
   "outputs": [
    {
     "data": {
      "text/plain": [
       "['soc. CORONA PLATINA S.S.D.R.L.:Visti gli atti di gara e letto il rapporto arbitrale, si commina alla societа CORONA PLATINA SSD R.L. la sanzione dell’ammenda di Ђ 150,00 per le offese collettive e frequenti rivolte dai propri sostenitori nei confronti degli arbitri durante la gara (Art. 27 co. 4/b-d Regolam. Giustizia).']"
      ]
     },
     "execution_count": 104,
     "metadata": {},
     "output_type": "execute_result"
    }
   ],
   "source": [
    "provvedimenti = [p.text for p in more_info.find_all(\"p\", attrs={\"class\": \"value--provvedimento\"})]\n",
    "provvedimenti"
   ]
  },
  {
   "cell_type": "code",
   "execution_count": null,
   "id": "5fb1b20d",
   "metadata": {},
   "outputs": [],
   "source": []
  }
 ],
 "metadata": {
  "kernelspec": {
   "display_name": ".venv",
   "language": "python",
   "name": "python3"
  },
  "language_info": {
   "codemirror_mode": {
    "name": "ipython",
    "version": 3
   },
   "file_extension": ".py",
   "mimetype": "text/x-python",
   "name": "python",
   "nbconvert_exporter": "python",
   "pygments_lexer": "ipython3",
   "version": "3.13.3"
  }
 },
 "nbformat": 4,
 "nbformat_minor": 5
}
