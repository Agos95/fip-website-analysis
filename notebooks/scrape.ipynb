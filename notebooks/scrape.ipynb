{
 "cells": [
  {
   "cell_type": "code",
   "execution_count": 1,
   "id": "af96e53a",
   "metadata": {},
   "outputs": [],
   "source": [
    "from bs4 import BeautifulSoup\n",
    "import httpx\n",
    "import re"
   ]
  },
  {
   "cell_type": "code",
   "execution_count": 2,
   "id": "a571178c",
   "metadata": {},
   "outputs": [],
   "source": [
    "# start page for Veneto\n",
    "START_PAGE = \"https://fip.it/risultati/?group=campionati-regionali&regione_codice=VE&comitato_codice=RVE\"\n",
    "\n",
    "response = httpx.get(START_PAGE)\n",
    "webpage = response.text"
   ]
  },
  {
   "cell_type": "code",
   "execution_count": 3,
   "id": "66b30617",
   "metadata": {},
   "outputs": [],
   "source": [
    "soup = BeautifulSoup(webpage, \"lxml\")"
   ]
  },
  {
   "cell_type": "code",
   "execution_count": 4,
   "id": "791a63cb",
   "metadata": {},
   "outputs": [],
   "source": [
    "comitato_codice = {}"
   ]
  },
  {
   "cell_type": "code",
   "execution_count": 5,
   "id": "6ede3692",
   "metadata": {},
   "outputs": [],
   "source": [
    "for opt in soup.find(id=\"province\").find(\"select\").find_all(\"option\"):\n",
    "    comitato_codice[opt.text.strip()] = opt.attrs[\"value\"]"
   ]
  },
  {
   "cell_type": "code",
   "execution_count": 6,
   "id": "d093a3f2",
   "metadata": {},
   "outputs": [
    {
     "data": {
      "text/plain": [
       "{'BELLUNO': 'PBL',\n",
       " 'PADOVA': 'PPD',\n",
       " 'TREVISO': 'PTV',\n",
       " 'VENEZIA': 'RVE',\n",
       " 'VERONA': 'PVR',\n",
       " 'VICENZA': 'PVI'}"
      ]
     },
     "execution_count": 6,
     "metadata": {},
     "output_type": "execute_result"
    }
   ],
   "source": [
    "comitato_codice"
   ]
  },
  {
   "cell_type": "code",
   "execution_count": 7,
   "id": "ded93a41",
   "metadata": {},
   "outputs": [],
   "source": [
    "# do this for each 'comitato_codice.values()'\n",
    "COMITATO_CODICE = \"RVE\"\n",
    "\n",
    "sesso = {}\n",
    "\n",
    "params={\n",
    "    \"group\": \"campionati-regionali\", \n",
    "    \"regione_codice\": \"VE\", \n",
    "    \"comitato_codice\": COMITATO_CODICE\n",
    "}\n",
    "response = httpx.get(\"https://fip.it/risultati/\", params=params)\n",
    "soup = BeautifulSoup(response.text, \"lxml\")\n",
    "\n",
    "for opt in soup.find(id=\"sesso-wrapper\").find(\"select\").find_all(\"option\"):\n",
    "    sesso[opt.text.strip()] = opt.attrs[\"value\"]"
   ]
  },
  {
   "cell_type": "code",
   "execution_count": 8,
   "id": "6dd09a4a",
   "metadata": {},
   "outputs": [
    {
     "data": {
      "text/plain": [
       "{'Campionati Maschili': 'M', 'Campionati Femminili': 'F'}"
      ]
     },
     "execution_count": 8,
     "metadata": {},
     "output_type": "execute_result"
    }
   ],
   "source": [
    "sesso"
   ]
  },
  {
   "cell_type": "code",
   "execution_count": 9,
   "id": "6d99d840",
   "metadata": {},
   "outputs": [],
   "source": [
    "# do this for each `sesso.values()`\n",
    "SESSO = \"M\"\n",
    "\n",
    "codice_campionato = {}\n",
    "\n",
    "params={\n",
    "    \"group\": \"campionati-regionali\", \n",
    "    \"regione_codice\": \"VE\", \n",
    "    \"comitato_codice\": COMITATO_CODICE,\n",
    "    \"sesso\": SESSO\n",
    "}\n",
    "response = httpx.get(\"https://fip.it/risultati/\", params=params)\n",
    "soup = BeautifulSoup(response.text, \"lxml\")\n",
    "\n",
    "for opt in soup.find(id=\"campionati\").find(\"select\").find_all(\"option\"):\n",
    "    codice_campionato[opt.text.strip()] = opt.attrs[\"value\"]"
   ]
  },
  {
   "cell_type": "code",
   "execution_count": 10,
   "id": "e7e1a7d8",
   "metadata": {},
   "outputs": [
    {
     "data": {
      "text/plain": [
       "{'Serie B Interregionale': 'B2',\n",
       " 'Serie C': 'C1',\n",
       " 'Divisione regionale 1': 'D',\n",
       " 'Under 19 Maschile Eccellenza': 'U19/E',\n",
       " 'Under 19 Maschile Gold': 'U19G/M',\n",
       " 'Under 19 Maschile Regionale': 'U19S/M',\n",
       " 'Under 17 Maschile Eccellenza': 'U17/E',\n",
       " 'Under 17 Maschile Gold': 'U17G/M',\n",
       " 'Under 17 Maschile Regionale': 'U17S/M',\n",
       " 'Under 15 Maschile Eccellenza': 'U15/E',\n",
       " 'Under 15 Maschile Gold': 'U15G/M',\n",
       " 'Under 15 Maschile Regionale': 'U15S/M',\n",
       " 'Under 14 Maschile Gold': 'U14G/M',\n",
       " 'Under 14 Maschile Regionale': 'U14S/M',\n",
       " 'Under 13 Maschile Gold': 'U13G/M',\n",
       " 'Under 13 Maschile Regionale': 'U13S/M',\n",
       " 'Trofeo Esordienti': 'ES',\n",
       " 'Aquilotti': 'TAQ',\n",
       " 'Scoiattoli': 'TSC'}"
      ]
     },
     "execution_count": 10,
     "metadata": {},
     "output_type": "execute_result"
    }
   ],
   "source": [
    "codice_campionato"
   ]
  },
  {
   "cell_type": "code",
   "execution_count": 11,
   "id": "18360c6d",
   "metadata": {},
   "outputs": [],
   "source": [
    "# do this for each `codice_campionato.values()`\n",
    "CODICE_CAMPIONATO = \"B2\"\n",
    "\n",
    "codice_fase = {}\n",
    "\n",
    "params={\n",
    "    \"group\": \"campionati-regionali\", \n",
    "    \"regione_codice\": \"VE\", \n",
    "    \"comitato_codice\": COMITATO_CODICE,\n",
    "    \"sesso\": SESSO,\n",
    "    \"codice_campionato\": CODICE_CAMPIONATO\n",
    "}\n",
    "response = httpx.get(\"https://fip.it/risultati/\", params=params)\n",
    "soup = BeautifulSoup(response.text, \"lxml\")\n",
    "\n",
    "for opt in soup.find(id=\"fasi\").find(\"select\").find_all(\"option\"):\n",
    "    codice_fase[opt.text.strip()] = opt.attrs[\"value\"]"
   ]
  },
  {
   "cell_type": "code",
   "execution_count": 12,
   "id": "7afc9032",
   "metadata": {},
   "outputs": [
    {
     "data": {
      "text/plain": [
       "{'Qualificazione': '1',\n",
       " 'Seconda Fase': '2',\n",
       " 'PlayOff Quarti': '3',\n",
       " 'PlayOff Semifinali': '4',\n",
       " 'PlayOff Finale': '5'}"
      ]
     },
     "execution_count": 12,
     "metadata": {},
     "output_type": "execute_result"
    }
   ],
   "source": [
    "codice_fase"
   ]
  },
  {
   "cell_type": "code",
   "execution_count": 13,
   "id": "bdf8e303",
   "metadata": {},
   "outputs": [],
   "source": [
    "# do this for each `codice_fase.values()`\n",
    "CODICE_FASE = \"3\"\n",
    "\n",
    "codice_girone = {}\n",
    "\n",
    "params={\n",
    "    \"group\": \"campionati-regionali\", \n",
    "    \"regione_codice\": \"VE\", \n",
    "    \"comitato_codice\": COMITATO_CODICE,\n",
    "    \"sesso\": SESSO,\n",
    "    \"codice_campionato\": CODICE_CAMPIONATO,\n",
    "    \"codice_fase\": CODICE_FASE\n",
    "}\n",
    "response = httpx.get(\"https://fip.it/risultati/\", params=params)\n",
    "soup = BeautifulSoup(response.text, \"lxml\")\n",
    "\n",
    "for opt in soup.find(id=\"gironi\").find(\"select\").find_all(\"option\"):\n",
    "    codice_girone[opt.text.strip()] = opt.attrs[\"value\"]"
   ]
  },
  {
   "cell_type": "code",
   "execution_count": 14,
   "id": "b4231997",
   "metadata": {},
   "outputs": [
    {
     "data": {
      "text/plain": [
       "{'Quarti G1': '71774',\n",
       " 'Quarti G2': '71775',\n",
       " 'Quarti G3': '71776',\n",
       " 'Quarti G4': '71777'}"
      ]
     },
     "execution_count": 14,
     "metadata": {},
     "output_type": "execute_result"
    }
   ],
   "source": [
    "codice_girone"
   ]
  },
  {
   "cell_type": "code",
   "execution_count": 15,
   "id": "5427c7b0",
   "metadata": {},
   "outputs": [],
   "source": [
    "# do this for each `codice_girone.values()`\n",
    "CODICE_GIRONE = \"71774\"\n",
    "\n",
    "links = []\n",
    "\n",
    "params={\n",
    "    \"group\": \"campionati-regionali\", \n",
    "    \"regione_codice\": \"VE\", \n",
    "    \"comitato_codice\": COMITATO_CODICE,\n",
    "    \"sesso\": SESSO,\n",
    "    \"codice_campionato\": CODICE_CAMPIONATO,\n",
    "    \"codice_fase\": CODICE_FASE,\n",
    "    \"codice_girone\": CODICE_GIRONE\n",
    "}\n",
    "response = httpx.get(\"https://fip.it/risultati/\", params=params)\n",
    "soup = BeautifulSoup(response.text, \"lxml\")\n",
    "\n",
    "for day in soup.find(\"div\", attrs={\"class\": \"results-calendar\"}).find_all(\"div\", attrs={\"class\": \"results-calendar__days__group\"}):\n",
    "    for a in day.find(\"div\", attrs={\"class\": \"values\"}).find_all(\"a\"):\n",
    "        links.append(a.get(\"href\"))"
   ]
  },
  {
   "cell_type": "code",
   "execution_count": 16,
   "id": "5af33b7a",
   "metadata": {},
   "outputs": [
    {
     "data": {
      "text/plain": [
       "['https://fip.it/risultati/?group=campionati-regionali&regione_codice=VE&comitato_codice=RVE&sesso=M&codice_campionato=B2&codice_fase=3&codice_girone=71774&codice_ar=1&giornata=1',\n",
       " 'https://fip.it/risultati/?group=campionati-regionali&regione_codice=VE&comitato_codice=RVE&sesso=M&codice_campionato=B2&codice_fase=3&codice_girone=71774&codice_ar=0&giornata=1']"
      ]
     },
     "execution_count": 16,
     "metadata": {},
     "output_type": "execute_result"
    }
   ],
   "source": [
    "links"
   ]
  },
  {
   "cell_type": "code",
   "execution_count": 17,
   "id": "53a439a4",
   "metadata": {},
   "outputs": [],
   "source": [
    "# do this for each link\n",
    "LINK = \"https://fip.it/risultati/?group=campionati-regionali&regione_codice=VE&comitato_codice=RVE&sesso=M&codice_campionato=B2&codice_fase=1&codice_girone=66198&codice_ar=0&giornata=6\"\n",
    "\n",
    "response = httpx.get(LINK)\n",
    "soup = BeautifulSoup(response.text, \"lxml\")"
   ]
  },
  {
   "cell_type": "code",
   "execution_count": 25,
   "id": "899c466e",
   "metadata": {},
   "outputs": [],
   "source": [
    "games = soup.find(\"div\", attrs={\"class\": \"results-tab\"}).find_all(\"div\", attrs={\"class\":\"results-matches__match\"})\n",
    "game = games[3]"
   ]
  },
  {
   "cell_type": "code",
   "execution_count": 26,
   "id": "88023f40",
   "metadata": {},
   "outputs": [
    {
     "data": {
      "text/plain": [
       "[{'name': 'CALORFLEX Oderzo', 'points': '65'},\n",
       " {'name': 'ADAMANT Ferrara', 'points': '84'}]"
      ]
     },
     "execution_count": 26,
     "metadata": {},
     "output_type": "execute_result"
    }
   ],
   "source": [
    "# teams\n",
    "teams = []\n",
    "for team in game.find_all(\"div\", attrs={\"class\": \"team\"}):\n",
    "    name = team.find(\"div\", attrs={\"class\": \"team__name\"}).text.strip()\n",
    "    points = team.find(\"div\", attrs={\"class\": \"team__points\"}).text.strip()\n",
    "    teams.append({\"name\": name, \"points\": points})\n",
    "\n",
    "teams"
   ]
  },
  {
   "cell_type": "code",
   "execution_count": 27,
   "id": "a61390cc",
   "metadata": {},
   "outputs": [
    {
     "data": {
      "text/plain": [
       "('05 Gennaio 2025', '18:00', '000098')"
      ]
     },
     "execution_count": 27,
     "metadata": {},
     "output_type": "execute_result"
    }
   ],
   "source": [
    "# match info\n",
    "info = game.find(\"div\", attrs={\"class\": \"results-matches__match__info\"})\n",
    "\n",
    "date = info.find(\"div\", attrs={\"class\": \"datetime\"}).find(\"div\", attrs={\"class\": \"date\"}).text.strip()\n",
    "time = info.find(\"div\", attrs={\"class\": \"datetime\"}).find(\"div\", attrs={\"class\": \"time\"}).text.strip()\n",
    "ref = info.find(\"div\", attrs={\"class\": \"ref\"}).text.strip()\n",
    "\n",
    "\n",
    "date, time, ref"
   ]
  },
  {
   "cell_type": "code",
   "execution_count": 28,
   "id": "741241b0",
   "metadata": {},
   "outputs": [],
   "source": [
    "# match more info\n",
    "more_info = game.find(\"div\", attrs={\"class\": \"results-matches__match__moreinfo\"})"
   ]
  },
  {
   "cell_type": "code",
   "execution_count": 29,
   "id": "39992641",
   "metadata": {},
   "outputs": [
    {
     "data": {
      "text/plain": [
       "'PALASPORT ODERZO, Via Pontremoli 31046 ODERZO ( TV)'"
      ]
     },
     "execution_count": 29,
     "metadata": {},
     "output_type": "execute_result"
    }
   ],
   "source": [
    "court = re.sub(r\"\\s+\",\" \", more_info.find(\"div\", attrs={\"class\":\"label\"}, string=re.compile(r\"\\s*Campo di gioco\\s*\")).find_next_sibling().text.strip())\n",
    "court"
   ]
  },
  {
   "cell_type": "code",
   "execution_count": 33,
   "id": "431000c4",
   "metadata": {},
   "outputs": [
    {
     "name": "stdout",
     "output_type": "stream",
     "text": [
      "campo: PALASPORT ODERZO, Via Pontremoli 31046 ODERZO ( TV)\n",
      "1_arbitro: COTUGNO NICOLA di UDINE (UD)\n",
      "2_arbitro: CENEDESE ISMAELE di RONCADE (TV)\n",
      "3_arbitro: Designazione in attesa di conferma.\n",
      "segnapunti: \n",
      "cronometrista: DAL CIN MARCO di GODEGA DI SANT'URBANO (TV)\n",
      "24_secondi: DECET MATTIA di CAERANO DI SAN MARCO (TV)\n",
      "statistico_1: BOSCARATO LEONARDO di ARCADE (TV)\n",
      "statistico_2: ZORZI ALESSANDRO di RONCADE (TV)\n"
     ]
    }
   ],
   "source": [
    "# get other info from 'more info' section\n",
    "\n",
    "info_strings = {\n",
    "    \"campo\": re.compile(r\"\\s*Campo di gioco\\s*\", re.IGNORECASE),\n",
    "    \"1_arbitro\": re.compile(r\"1.*Arbitro\", re.IGNORECASE),\n",
    "    \"2_arbitro\": re.compile(r\"2.*Arbitro\", re.IGNORECASE),\n",
    "    \"3_arbitro\": re.compile(r\"3.*Arbitro\", re.IGNORECASE),\n",
    "    \"segnapunti\": re.compile(r\"Segnapunti\", re.IGNORECASE),\n",
    "    \"cronometrista\": re.compile(r\"Cronometrista\", re.IGNORECASE),\n",
    "    \"24_secondi\": re.compile(r\"24 Secondi\", re.IGNORECASE),\n",
    "    \"statistico_1\": re.compile(r\"Statistico 1\", re.IGNORECASE),\n",
    "    \"statistico_2\": re.compile(r\"Statistico 2\", re.IGNORECASE),\n",
    "}\n",
    "\n",
    "for name, string in info_strings.items():\n",
    "    value = re.sub(\n",
    "        r\"\\s+\", \" \", \n",
    "        more_info.find(\"div\", attrs={\"class\": \"label\"}, string=string).find_next_sibling().text.strip()\n",
    "    )\n",
    "    print(f\"{name}: {value}\")\n"
   ]
  },
  {
   "cell_type": "code",
   "execution_count": 34,
   "id": "13488a2b",
   "metadata": {},
   "outputs": [
    {
     "data": {
      "text/plain": [
       "['soc. Sporting Club Oderzo s.s.d.ar.l.:Visti gli atti di gara e letto il rapporto arbitrale, si commina alla societа SPORTING CLUB ODERZO SSD A R.L. la sanzione dell’ammenda di Ђ 155,00 per le offese collettive e frequenti rivolte dai propri sostenitori nei confronti degli arbitri durante la gara. Si tiene conto della recidiva (Art. 27 co. 4/b-d, art. 24 Regolam. Giustizia).',\n",
       " 'soc. asd ferrara basket 2018:Visti gli atti di gara e letto il rapporto arbitrale, si commina alla societа ASD FERRARA BASKET 2018 la sanzione dell’ammenda di Ђ 80,00 per le offese isolate e frequenti rivolte da un proprio sostenitore nei confronti degli arbitri durante la gara. Si tiene conto della recidiva (Art. 27 co. 4/a-d, art. 24 Regolam. Giustizia)']"
      ]
     },
     "execution_count": 34,
     "metadata": {},
     "output_type": "execute_result"
    }
   ],
   "source": [
    "provvedimenti = [p.text for p in more_info.find(\"div\", attrs={\"class\": \"label\"}, string=re.compile(r\"Provvedimenti\", re.IGNORECASE)).find_next_siblings()]\n",
    "provvedimenti"
   ]
  },
  {
   "cell_type": "code",
   "execution_count": 1,
   "id": "5fb1b20d",
   "metadata": {},
   "outputs": [],
   "source": [
    "import httpx"
   ]
  },
  {
   "cell_type": "code",
   "execution_count": 20,
   "id": "0f2e3bc2",
   "metadata": {},
   "outputs": [],
   "source": [
    "url = httpx.URL(\"https://fip.it/risultati/?group=campionati-regionali&regione_codice=AB&comitato_codice=RAB\")"
   ]
  },
  {
   "cell_type": "code",
   "execution_count": 25,
   "id": "e4508619",
   "metadata": {},
   "outputs": [
    {
     "data": {
      "text/plain": [
       "URL('https://fip.it/risultati/')"
      ]
     },
     "execution_count": 25,
     "metadata": {},
     "output_type": "execute_result"
    }
   ],
   "source": [
    "url.copy_with(params={})"
   ]
  },
  {
   "cell_type": "code",
   "execution_count": 10,
   "id": "187d38a9",
   "metadata": {},
   "outputs": [
    {
     "data": {
      "text/plain": [
       "URL('https://fip.it/risultati/?group=campionati-regionali&regione_codice=AB&comitato_codice=RAB&test=1')"
      ]
     },
     "execution_count": 10,
     "metadata": {},
     "output_type": "execute_result"
    }
   ],
   "source": [
    "url.copy_add_param(\"test\", \"1\")"
   ]
  },
  {
   "cell_type": "code",
   "execution_count": 35,
   "id": "c52e400d",
   "metadata": {},
   "outputs": [
    {
     "data": {
      "text/plain": [
       "['group=campionati-regionali&regione_codice=AB', 'comitato_codice=RAB']"
      ]
     },
     "execution_count": 35,
     "metadata": {},
     "output_type": "execute_result"
    }
   ],
   "source": [
    "str(url.params).rsplit(\"&\", 1)"
   ]
  },
  {
   "cell_type": "code",
   "execution_count": 15,
   "id": "77d05c8c",
   "metadata": {},
   "outputs": [
    {
     "data": {
      "text/plain": [
       "'https'"
      ]
     },
     "execution_count": 15,
     "metadata": {},
     "output_type": "execute_result"
    }
   ],
   "source": [
    "url.scheme"
   ]
  },
  {
   "cell_type": "code",
   "execution_count": 16,
   "id": "3ecfedb9",
   "metadata": {},
   "outputs": [],
   "source": [
    "from urllib.parse import urlparse\n",
    "\n",
    "url = urlparse(\"https://fip.it/risultati/?group=campionati-regionali&regione_codice=AB&comitato_codice=RAB\")"
   ]
  },
  {
   "cell_type": "code",
   "execution_count": 19,
   "id": "4014e052",
   "metadata": {},
   "outputs": [
    {
     "data": {
      "text/plain": [
       "'fip.it'"
      ]
     },
     "execution_count": 19,
     "metadata": {},
     "output_type": "execute_result"
    }
   ],
   "source": [
    "url.netloc"
   ]
  },
  {
   "cell_type": "code",
   "execution_count": 27,
   "id": "36f48194",
   "metadata": {},
   "outputs": [
    {
     "name": "stdout",
     "output_type": "stream",
     "text": [
      "x = 5\n",
      "{'a': 1, 'b': 2, 'x': 5, 'y': 100}\n",
      "{'a': 1, 'b': 2, 'x': 5, 'y': 99}\n",
      "{'a': 1, 'b': 2, 'x': 5, 'y': 98}\n",
      "{'a': 1, 'b': 2, 'x': 5, 'y': 97}\n",
      "x = 6\n",
      "{'a': 1, 'b': 2, 'x': 6, 'y': 100}\n",
      "{'a': 1, 'b': 2, 'x': 6, 'y': 99}\n",
      "{'a': 1, 'b': 2, 'x': 6, 'y': 98}\n",
      "{'a': 1, 'b': 2, 'x': 6, 'y': 97}\n",
      "x = 7\n",
      "{'a': 1, 'b': 2, 'x': 7, 'y': 100}\n",
      "{'a': 1, 'b': 2, 'x': 7, 'y': 99}\n",
      "{'a': 1, 'b': 2, 'x': 7, 'y': 98}\n",
      "{'a': 1, 'b': 2, 'x': 7, 'y': 97}\n"
     ]
    }
   ],
   "source": [
    "a = {\n",
    "    \"a\": 1,\n",
    "    \"b\": 2\n",
    "}\n",
    "\n",
    "\n",
    "for x in [5,6,7]:\n",
    "    print(f\"x = {x}\")\n",
    "    a[\"x\"] = x\n",
    "    for y in [100, 99, 98, 97]:\n",
    "        a[\"y\"] = y\n",
    "        print(a)"
   ]
  },
  {
   "cell_type": "code",
   "execution_count": 28,
   "id": "b2470ae1",
   "metadata": {},
   "outputs": [],
   "source": [
    "c = httpx.Client(base_url=\"https://fip.it\")"
   ]
  },
  {
   "cell_type": "code",
   "execution_count": null,
   "id": "f05b07ee",
   "metadata": {},
   "outputs": [],
   "source": []
  }
 ],
 "metadata": {
  "kernelspec": {
   "display_name": ".venv",
   "language": "python",
   "name": "python3"
  },
  "language_info": {
   "codemirror_mode": {
    "name": "ipython",
    "version": 3
   },
   "file_extension": ".py",
   "mimetype": "text/x-python",
   "name": "python",
   "nbconvert_exporter": "python",
   "pygments_lexer": "ipython3",
   "version": "3.13.3"
  }
 },
 "nbformat": 4,
 "nbformat_minor": 5
}
